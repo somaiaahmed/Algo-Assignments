{
 "cells": [
  {
   "cell_type": "markdown",
   "metadata": {},
   "source": [
    "# 1. **Bubble Sort**\n",
    "**Time Complexity:**\n",
    "- Worst: \\( O(n^2) \\)\n",
    "- Best: \\( O(n) \\) (when array is already sorted)\n",
    "- Average: \\( O(n^2) \\)\n",
    "\n",
    "**Space Complexity:** \\( O(1) \\) (in-place)"
   ]
  },
  {
   "cell_type": "code",
   "execution_count": 1,
   "metadata": {},
   "outputs": [],
   "source": [
    "def bubble_sort(arr):\n",
    "    n = len(arr)\n",
    "    for i in range(n):\n",
    "        for j in range(0, n-i-1):\n",
    "            if arr[j] > arr[j+1]:\n",
    "                arr[j], arr[j+1] = arr[j+1], arr[j]\n",
    "    return arr\n"
   ]
  },
  {
   "cell_type": "markdown",
   "metadata": {},
   "source": [
    "# 2. **Selection Sort**\n",
    "**Time Complexity:**\n",
    "- Worst: \\( O(n^2) \\)\n",
    "- Best: \\( O(n^2) \\)\n",
    "- Average: \\( O(n^2) \\)\n",
    "\n",
    "**Space Complexity:** \\( O(1) \\) (in-place)\n"
   ]
  },
  {
   "cell_type": "code",
   "execution_count": 2,
   "metadata": {},
   "outputs": [],
   "source": [
    "def selection_sort(arr):\n",
    "    n = len(arr)\n",
    "    for i in range(n):\n",
    "        min_idx = i\n",
    "        for j in range(i+1, n):\n",
    "            if arr[j] < arr[min_idx]:\n",
    "                min_idx = j\n",
    "        arr[i], arr[min_idx] = arr[min_idx], arr[i]\n",
    "    return arr\n"
   ]
  },
  {
   "cell_type": "markdown",
   "metadata": {},
   "source": [
    "\n",
    "# 3. **Insertion Sort**\n",
    "**Time Complexity:**\n",
    "- Worst: \\( O(n^2) \\)\n",
    "- Best: \\( O(n) \\) (when array is already sorted)\n",
    "- Average: \\( O(n^2) \\)\n",
    "\n",
    "**Space Complexity:** \\( O(1) \\) (in-place)"
   ]
  },
  {
   "cell_type": "code",
   "execution_count": 3,
   "metadata": {},
   "outputs": [],
   "source": [
    "def insertion_sort(arr):\n",
    "    for i in range(1, len(arr)):\n",
    "        key = arr[i]\n",
    "        j = i - 1\n",
    "        while j >= 0 and key < arr[j]:\n",
    "            arr[j + 1] = arr[j]\n",
    "            j -= 1\n",
    "        arr[j + 1] = key\n",
    "    return arr"
   ]
  },
  {
   "cell_type": "markdown",
   "metadata": {},
   "source": [
    "# 4. **Merge Sort**\n",
    "**Time Complexity:**\n",
    "- Worst: \\( O(n \\log n) \\)\n",
    "- Best: \\( O(n \\log n) \\)\n",
    "- Average: \\( O(n \\log n) \\)\n",
    "\n",
    "**Space Complexity:** \\( O(n) \\)"
   ]
  },
  {
   "cell_type": "code",
   "execution_count": 4,
   "metadata": {},
   "outputs": [],
   "source": [
    "def merge_sort(arr):\n",
    "    if len(arr) > 1:\n",
    "        mid = len(arr) // 2\n",
    "        L = arr[:mid]\n",
    "        R = arr[mid:]\n",
    "        merge_sort(L)\n",
    "        merge_sort(R)\n",
    "        i = j = k = 0\n",
    "        while i < len(L) and j < len(R):\n",
    "            if L[i] < R[j]:\n",
    "                arr[k] = L[i]\n",
    "                i += 1\n",
    "            else:\n",
    "                arr[k] = R[j]\n",
    "                j += 1\n",
    "            k += 1\n",
    "        while i < len(L):\n",
    "            arr[k] = L[i]\n",
    "            i += 1\n",
    "            k += 1\n",
    "        while j < len(R):\n",
    "            arr[k] = R[j]\n",
    "            j += 1\n",
    "            k += 1\n",
    "    return arr"
   ]
  },
  {
   "cell_type": "markdown",
   "metadata": {},
   "source": [
    "# 5. **Quick Sort**\n",
    "**Time Complexity:**\n",
    "- Worst: \\( O(n^2) \\) (when the pivot is the smallest or largest element)\n",
    "- Best: \\( O(n \\log n) \\)\n",
    "- Average: \\( O(n \\log n) \\)\n",
    "\n",
    "**Space Complexity:** \\( O(\\log n) \\) (due to recursion stack)"
   ]
  },
  {
   "cell_type": "code",
   "execution_count": 5,
   "metadata": {},
   "outputs": [],
   "source": [
    "def quick_sort(arr):\n",
    "    if len(arr) <= 1:\n",
    "        return arr\n",
    "    pivot = arr[len(arr) // 2]\n",
    "    left = [x for x in arr if x < pivot]\n",
    "    middle = [x for x in arr if x == pivot]\n",
    "    right = [x for x in arr if x > pivot]\n",
    "    return quick_sort(left) + middle + quick_sort(right)"
   ]
  },
  {
   "cell_type": "markdown",
   "metadata": {},
   "source": [
    "# 6. **Heap Sort**\n",
    "**Time Complexity:**\n",
    "- Worst: \\( O(n \\log n) \\)\n",
    "- Best: \\( O(n \\log n) \\)\n",
    "- Average: \\( O(n \\log n) \\)\n",
    "\n",
    "**Space Complexity:** \\( O(1) \\) (in-place)"
   ]
  },
  {
   "cell_type": "code",
   "execution_count": 6,
   "metadata": {},
   "outputs": [],
   "source": [
    "def heapify(arr, n, i):\n",
    "    largest = i\n",
    "    l = 2 * i + 1\n",
    "    r = 2 * i + 2\n",
    "    if l < n and arr[l] > arr[largest]:\n",
    "        largest = l\n",
    "    if r < n and arr[r] > arr[largest]:\n",
    "        largest = r\n",
    "    if largest != i:\n",
    "        arr[i], arr[largest] = arr[largest], arr[i]\n",
    "        heapify(arr, n, largest)\n",
    "\n",
    "def heap_sort(arr):\n",
    "    n = len(arr)\n",
    "    for i in range(n // 2 - 1, -1, -1):\n",
    "        heapify(arr, n, i)\n",
    "    for i in range(n-1, 0, -1):\n",
    "        arr[i], arr[0] = arr[0], arr[i]\n",
    "        heapify(arr, i, 0)\n",
    "    return arr"
   ]
  },
  {
   "cell_type": "markdown",
   "metadata": {},
   "source": [
    "# 7. **Counting Sort** (Only works for non-negative integers)\n",
    "**Time Complexity:**\n",
    "- Worst: \\( O(n + k) \\) (where \\( k \\) is the range of the input values)\n",
    "- Best: \\( O(n + k) \\)\n",
    "- Average: \\( O(n + k) \\)\n",
    "\n",
    "**Space Complexity:** \\( O(n + k) \\)"
   ]
  },
  {
   "cell_type": "code",
   "execution_count": 7,
   "metadata": {},
   "outputs": [],
   "source": [
    "def counting_sort(arr):\n",
    "    max_val = max(arr)\n",
    "    count = [0] * (max_val + 1)\n",
    "    for num in arr:\n",
    "        count[num] += 1\n",
    "    idx = 0\n",
    "    for i, cnt in enumerate(count):\n",
    "        for _ in range(cnt):\n",
    "            arr[idx] = i\n",
    "            idx += 1\n",
    "    return arr"
   ]
  },
  {
   "cell_type": "markdown",
   "metadata": {},
   "source": [
    "# 8. **Radix Sort** (Only works for integers)\n",
    "**Time Complexity:**\n",
    "- Worst: \\( O(d \\times (n + k)) \\) (where \\( d \\) is the number of digits and \\( k \\) is the range of input values)\n",
    "- Best: \\( O(d \\times (n + k)) \\)\n",
    "- Average: \\( O(d \\times (n + k)) \\)\n",
    "\n",
    "**Space Complexity:** \\( O(n + k) \\)"
   ]
  },
  {
   "cell_type": "code",
   "execution_count": 8,
   "metadata": {},
   "outputs": [],
   "source": [
    "def counting_sort_for_radix(arr, exp):\n",
    "    n = len(arr)\n",
    "    output = [0] * n\n",
    "    count = [0] * 10\n",
    "    for i in range(n):\n",
    "        index = arr[i] // exp\n",
    "        count[index % 10] += 1\n",
    "    for i in range(1, 10):\n",
    "        count[i] += count[i - 1]\n",
    "    i = n - 1\n",
    "    while i >= 0:\n",
    "        index = arr[i] // exp\n",
    "        output[count[index % 10] - 1] = arr[i]\n",
    "        count[index % 10] -= 1\n",
    "        i -= 1\n",
    "    for i in range(n):\n",
    "        arr[i] = output[i]\n",
    "\n",
    "def radix_sort(arr):\n",
    "    max_val = max(arr)\n",
    "    exp = 1\n",
    "    while max_val // exp > 0:\n",
    "        counting_sort_for_radix(arr, exp)\n",
    "        exp *= 10\n",
    "    return arr"
   ]
  },
  {
   "cell_type": "markdown",
   "metadata": {},
   "source": [
    "# 9. **Tim Sort** \n",
    "(Used in Python’s built-in `sorted()` and `.sort()` methods)\n",
    "**Time Complexity:**\n",
    "- Worst: \\( O(n \\log n) \\)\n",
    "- Best: \\( O(n) \\)\n",
    "- Average: \\( O(n \\log n) \\)\n",
    "\n",
    "**Space Complexity:** \\( O(n) \\)"
   ]
  },
  {
   "cell_type": "code",
   "execution_count": 9,
   "metadata": {},
   "outputs": [],
   "source": [
    "# Python's built-in sort\n",
    "def tim_sort(arr):\n",
    "    return sorted(arr)"
   ]
  },
  {
   "cell_type": "markdown",
   "metadata": {},
   "source": [
    "\n",
    "# Summary Table\n",
    "\n",
    "| Algorithm        | Worst Time | Best Time | Avg Time  | Space |\n",
    "|-------------------|------------|-----------|-----------|-------|\n",
    "| Bubble Sort       | \\( O(n^2) \\) | \\( O(n) \\) | \\( O(n^2) \\) | \\( O(1) \\) |\n",
    "| Selection Sort    | \\( O(n^2) \\) | \\( O(n^2) \\) | \\( O(n^2) \\) | \\( O(1) \\) |\n",
    "| Insertion Sort    | \\( O(n^2) \\) | \\( O(n) \\) | \\( O(n^2) \\) | \\( O(1) \\) |\n",
    "| Merge Sort        | \\( O(n \\log n) \\) | \\( O(n \\log n) \\) | \\( O(n \\log n) \\) | \\( O(n) \\) |\n",
    "| Quick Sort        | \\( O(n^2) \\) | \\( O(n \\log n) \\) | \\( O(n \\log n) \\) | \\( O(\\log n) \\) |\n",
    "| Heap Sort         | \\( O(n \\log n) \\) | \\( O(n \\log n) \\) | \\( O(n \\log n) \\) | \\( O(1) \\) |\n",
    "| Counting Sort     | \\( O(n + k) \\) | \\( O(n + k) \\) | \\( O(n + k) \\) | \\( O(n + k) \\) |\n",
    "| Radix Sort        | \\( O(d \\times (n + k)) \\) | \\( O(d \\times (n + k)) \\) | \\( O(d \\times (n + k)) \\) | \\( O(n + k) \\) |\n",
    "| Tim Sort          | \\( O(n \\log n) \\) | \\( O(n) \\) | \\( O(n \\log n) \\) | \\( O(n) \\) |"
   ]
  },
  {
   "cell_type": "code",
   "execution_count": null,
   "metadata": {},
   "outputs": [],
   "source": []
  },
  {
   "cell_type": "markdown",
   "metadata": {},
   "source": []
  }
 ],
 "metadata": {
  "kernelspec": {
   "display_name": "base",
   "language": "python",
   "name": "python3"
  },
  "language_info": {
   "codemirror_mode": {
    "name": "ipython",
    "version": 3
   },
   "file_extension": ".py",
   "mimetype": "text/x-python",
   "name": "python",
   "nbconvert_exporter": "python",
   "pygments_lexer": "ipython3",
   "version": "3.12.4"
  }
 },
 "nbformat": 4,
 "nbformat_minor": 2
}
