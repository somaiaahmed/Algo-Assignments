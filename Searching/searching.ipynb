{
 "cells": [
  {
   "cell_type": "markdown",
   "metadata": {},
   "source": [
    "# 1. **Linear Search**\n",
    "**Time Complexity:**\n",
    "- Worst: \\( O(n) \\)\n",
    "- Best: \\( O(1) \\) (if the element is at the start)\n",
    "- Average: \\( O(n) \\)\n",
    "\n",
    "**Space Complexity:** \\( O(1) \\)"
   ]
  },
  {
   "cell_type": "code",
   "execution_count": null,
   "metadata": {},
   "outputs": [],
   "source": [
    "def linear_search(arr, target):\n",
    "    for i in range(len(arr)):\n",
    "        if arr[i] == target:\n",
    "            return i  # Return the index of the target\n",
    "    return -1  # Target not found"
   ]
  },
  {
   "cell_type": "markdown",
   "metadata": {},
   "source": [
    "# 2. **Binary Search** \n",
    "(for sorted arrays)\n",
    "\n",
    "**Time Complexity:**\n",
    "- Worst: \\( O(\\log n) \\)\n",
    "- Best: \\( O(1) \\) (if the middle element is the target)\n",
    "- Average: \\( O(\\log n) \\)\n",
    "\n",
    "**Space Complexity:**\n",
    "- Iterative: \\( O(1) \\)\n",
    "- Recursive: \\( O(\\log n) \\) (due to recursion stack)\n",
    "\n",
    "## **Iterative Implementation:**"
   ]
  },
  {
   "cell_type": "code",
   "execution_count": 1,
   "metadata": {},
   "outputs": [],
   "source": [
    "def binary_search(arr, target):\n",
    "    low, high = 0, len(arr) - 1\n",
    "    while low <= high:\n",
    "        mid = (low + high) // 2\n",
    "        if arr[mid] == target:\n",
    "            return mid  # Target found\n",
    "        elif arr[mid] < target:\n",
    "            low = mid + 1\n",
    "        else:\n",
    "            high = mid - 1\n",
    "    return -1  # Target not found"
   ]
  },
  {
   "cell_type": "markdown",
   "metadata": {},
   "source": [
    "## **Recursive Implementation:**"
   ]
  },
  {
   "cell_type": "code",
   "execution_count": 2,
   "metadata": {},
   "outputs": [],
   "source": [
    "def binary_search_recursive(arr, low, high, target):\n",
    "    if low > high:\n",
    "        return -1  # Target not found\n",
    "    mid = (low + high) // 2\n",
    "    if arr[mid] == target:\n",
    "        return mid  # Target found\n",
    "    elif arr[mid] < target:\n",
    "        return binary_search_recursive(arr, mid + 1, high, target)\n",
    "    else:\n",
    "        return binary_search_recursive(arr, low, mid - 1, target)"
   ]
  },
  {
   "cell_type": "markdown",
   "metadata": {},
   "source": [
    "# 3. **Jump Search** \n",
    "(for sorted arrays)\n",
    "\n",
    "**Time Complexity:**\n",
    "- Worst: \\( O(\\sqrt{n}) \\)\n",
    "- Best: \\( O(1) \\) (if the first jump contains the target)\n",
    "- Average: \\( O(\\sqrt{n}) \\)\n",
    "\n",
    "**Space Complexity:** \\( O(1) \\)"
   ]
  },
  {
   "cell_type": "code",
   "execution_count": 3,
   "metadata": {},
   "outputs": [],
   "source": [
    "import math\n",
    "\n",
    "def jump_search(arr, target):\n",
    "    n = len(arr)\n",
    "    step = int(math.sqrt(n))\n",
    "    prev = 0\n",
    "    while arr[min(step, n) - 1] < target:\n",
    "        prev = step\n",
    "        step += int(math.sqrt(n))\n",
    "        if prev >= n:\n",
    "            return -1\n",
    "    for i in range(prev, min(step, n)):\n",
    "        if arr[i] == target:\n",
    "            return i\n",
    "    return -1  # Target not found"
   ]
  },
  {
   "cell_type": "markdown",
   "metadata": {},
   "source": [
    "# 4. **Interpolation Search** \n",
    "(for uniformly distributed sorted arrays)\n",
    "**Time Complexity:**\n",
    "- Worst: \\( O(n) \\) (if the array is not uniformly distributed)\n",
    "- Best: \\( O(1) \\) (if the target is at the expected position)\n",
    "- Average: \\( O(\\log \\log n) \\)\n",
    "\n",
    "**Space Complexity:** \\( O(1) \\)"
   ]
  },
  {
   "cell_type": "code",
   "execution_count": 4,
   "metadata": {},
   "outputs": [],
   "source": [
    "def interpolation_search(arr, target):\n",
    "    low, high = 0, len(arr) - 1\n",
    "    while low <= high and target >= arr[low] and target <= arr[high]:\n",
    "        pos = low + ((high - low) // (arr[high] - arr[low]) * (target - arr[low]))\n",
    "        if arr[pos] == target:\n",
    "            return pos\n",
    "        elif arr[pos] < target:\n",
    "            low = pos + 1\n",
    "        else:\n",
    "            high = pos - 1\n",
    "    return -1  # Target not found"
   ]
  },
  {
   "cell_type": "markdown",
   "metadata": {},
   "source": [
    "# 5. **Exponential Search** (for sorted arrays)\n",
    "**Time Complexity:**\n",
    "- Worst: \\( O(\\log n) \\)\n",
    "- Best: \\( O(1) \\) (if the first element is the target)\n",
    "- Average: \\( O(\\log n) \\)\n",
    "\n",
    "**Space Complexity:** \\( O(1) \\)"
   ]
  },
  {
   "cell_type": "code",
   "execution_count": 5,
   "metadata": {},
   "outputs": [],
   "source": [
    "def exponential_search(arr, target):\n",
    "    if arr[0] == target:\n",
    "        return 0\n",
    "    n = len(arr)\n",
    "    i = 1\n",
    "    while i < n and arr[i] <= target:\n",
    "        i *= 2\n",
    "    return binary_search(arr[:min(i, n)], target)  # Perform binary search"
   ]
  },
  {
   "cell_type": "markdown",
   "metadata": {},
   "source": [
    "# 6. **Fibonacci Search** (for sorted arrays)\n",
    "**Time Complexity:**\n",
    "- Worst: \\( O(\\log n) \\)\n",
    "- Best: \\( O(1) \\) (if the first element checked is the target)\n",
    "- Average: \\( O(\\log n) \\)\n",
    "\n",
    "**Space Complexity:** \\( O(1) \\)"
   ]
  },
  {
   "cell_type": "code",
   "execution_count": 6,
   "metadata": {},
   "outputs": [],
   "source": [
    "def fibonacci_search(arr, target):\n",
    "    n = len(arr)\n",
    "    fibMMm2 = 0  # (m-2)'th Fibonacci number\n",
    "    fibMMm1 = 1  # (m-1)'th Fibonacci number\n",
    "    fibM = fibMMm2 + fibMMm1  # m'th Fibonacci number\n",
    "\n",
    "    while fibM < n:\n",
    "        fibMMm2 = fibMMm1\n",
    "        fibMMm1 = fibM\n",
    "        fibM = fibMMm2 + fibMMm1\n",
    "\n",
    "    offset = -1\n",
    "\n",
    "    while fibM > 1:\n",
    "        i = min(offset + fibMMm2, n - 1)\n",
    "        if arr[i] < target:\n",
    "            fibM = fibMMm1\n",
    "            fibMMm1 = fibMMm2\n",
    "            fibMMm2 = fibM - fibMMm1\n",
    "            offset = i\n",
    "        elif arr[i] > target:\n",
    "            fibM = fibMMm2\n",
    "            fibMMm1 -= fibMMm2\n",
    "            fibMMm2 = fibM - fibMMm1\n",
    "        else:\n",
    "            return i  # Target found\n",
    "    if fibMMm1 and arr[offset + 1] == target:\n",
    "        return offset + 1\n",
    "    return -1  # Target not found"
   ]
  },
  {
   "cell_type": "markdown",
   "metadata": {},
   "source": [
    "# Summary Table\n",
    "\n",
    "| Algorithm           | Worst Time      | Best Time      | Avg Time      | Space  |\n",
    "|----------------------|-----------------|----------------|---------------|--------|\n",
    "| **Linear Search**    | \\( O(n) \\)     | \\( O(1) \\)     | \\( O(n) \\)    | \\( O(1) \\) |\n",
    "| **Binary Search**    | \\( O(\\log n) \\)| \\( O(1) \\)     | \\( O(\\log n) \\)| \\( O(1) \\) |\n",
    "| **Jump Search**      | \\( O(\\sqrt{n}) \\)| \\( O(1) \\)   | \\( O(\\sqrt{n}) \\)| \\( O(1) \\) |\n",
    "| **Interpolation Search** | \\( O(n) \\)  | \\( O(1) \\)     | \\( O(\\log \\log n) \\)| \\( O(1) \\) |\n",
    "| **Exponential Search**| \\( O(\\log n) \\)| \\( O(1) \\)    | \\( O(\\log n) \\)| \\( O(1) \\) |\n",
    "| **Fibonacci Search** | \\( O(\\log n) \\)| \\( O(1) \\)     | \\( O(\\log n) \\)| \\( O(1) \\) |\n",
    "\n"
   ]
  },
  {
   "cell_type": "markdown",
   "metadata": {},
   "source": []
  }
 ],
 "metadata": {
  "kernelspec": {
   "display_name": "base",
   "language": "python",
   "name": "python3"
  },
  "language_info": {
   "codemirror_mode": {
    "name": "ipython",
    "version": 3
   },
   "file_extension": ".py",
   "mimetype": "text/x-python",
   "name": "python",
   "nbconvert_exporter": "python",
   "pygments_lexer": "ipython3",
   "version": "3.12.4"
  }
 },
 "nbformat": 4,
 "nbformat_minor": 2
}
