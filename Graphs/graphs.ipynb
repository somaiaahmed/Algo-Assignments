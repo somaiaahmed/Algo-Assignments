{
 "cells": [
  {
   "cell_type": "markdown",
   "metadata": {},
   "source": [
    "## 1. **Depth First Search (DFS)**  \n",
    "### **Purpose:** Traverses all vertices of a graph by exploring as far as possible along each branch before backtracking.  \n",
    "**Time Complexity:** \\( O(V + E) \\)  \n",
    "**Space Complexity:** \\( O(V) \\) (due to recursion stack or visited list)  \n",
    "\n",
    "**Recursive Implementation:**"
   ]
  },
  {
   "cell_type": "code",
   "execution_count": null,
   "metadata": {},
   "outputs": [],
   "source": [
    "def dfs_recursive(graph, start, visited=None):\n",
    "    if visited is None:\n",
    "        visited = set()\n",
    "    visited.add(start)\n",
    "    print(start, end=\" \")  # Process the node\n",
    "    for neighbor in graph[start]:\n",
    "        if neighbor not in visited:\n",
    "            dfs_recursive(graph, neighbor, visited)"
   ]
  },
  {
   "cell_type": "markdown",
   "metadata": {},
   "source": [
    "### **Iterative Implementation:**"
   ]
  },
  {
   "cell_type": "code",
   "execution_count": 1,
   "metadata": {},
   "outputs": [],
   "source": [
    "def dfs_iterative(graph, start):\n",
    "    stack = [start]\n",
    "    visited = set()\n",
    "    while stack:\n",
    "        node = stack.pop()\n",
    "        if node not in visited:\n",
    "            visited.add(node)\n",
    "            print(node, end=\" \")  # Process the node\n",
    "            stack.extend(reversed(graph[node]))"
   ]
  },
  {
   "cell_type": "markdown",
   "metadata": {},
   "source": [
    "## 2. **Breadth First Search (BFS)**  \n",
    "### **Purpose:** Traverses level by level starting from a source vertex.  \n",
    "**Time Complexity:** \\( O(V + E) \\)  \n",
    "**Space Complexity:** \\( O(V) \\) (for queue and visited list)"
   ]
  },
  {
   "cell_type": "code",
   "execution_count": 2,
   "metadata": {},
   "outputs": [],
   "source": [
    "from collections import deque\n",
    "\n",
    "def bfs(graph, start):\n",
    "    queue = deque([start])\n",
    "    visited = set()\n",
    "    visited.add(start)\n",
    "    while queue:\n",
    "        node = queue.popleft()\n",
    "        print(node, end=\" \")  # Process the node\n",
    "        for neighbor in graph[node]:\n",
    "            if neighbor not in visited:\n",
    "                visited.add(neighbor)\n",
    "                queue.append(neighbor)"
   ]
  },
  {
   "cell_type": "markdown",
   "metadata": {},
   "source": [
    "## 3. **Dijkstra’s Algorithm**  \n",
    "### **Purpose:** Finds the shortest path from a source to all vertices in a weighted graph (non-negative weights).  \n",
    "**Time Complexity:** \\( O((V + E) log V) \\) (using a priority queue)  \n",
    "**Space Complexity:** \\( O(V) \\) (for distance and priority queue)\n"
   ]
  },
  {
   "cell_type": "code",
   "execution_count": 3,
   "metadata": {},
   "outputs": [],
   "source": [
    "import heapq\n",
    "\n",
    "def dijkstra(graph, source):\n",
    "    pq = []  # Priority queue\n",
    "    heapq.heappush(pq, (0, source))\n",
    "    distances = {node: float('inf') for node in graph}\n",
    "    distances[source] = 0\n",
    "    while pq:\n",
    "        current_distance, current_node = heapq.heappop(pq)\n",
    "        if current_distance > distances[current_node]:\n",
    "            continue\n",
    "        for neighbor, weight in graph[current_node].items():\n",
    "            distance = current_distance + weight\n",
    "            if distance < distances[neighbor]:\n",
    "                distances[neighbor] = distance\n",
    "                heapq.heappush(pq, (distance, neighbor))\n",
    "    return distances"
   ]
  },
  {
   "cell_type": "markdown",
   "metadata": {},
   "source": [
    "## 4. **Bellman-Ford Algorithm**  \n",
    "### **Purpose:** Finds the shortest path from a source to all vertices in a graph (works with negative weights).  \n",
    "**Time Complexity:** \\( O(V x E) \\)  \n",
    "**Space Complexity:** \\( O(V) \\)  "
   ]
  },
  {
   "cell_type": "code",
   "execution_count": 4,
   "metadata": {},
   "outputs": [],
   "source": [
    "def bellman_ford(graph, source, vertices):\n",
    "    distances = {v: float('inf') for v in vertices}\n",
    "    distances[source] = 0\n",
    "    for _ in range(len(vertices) - 1):\n",
    "        for u, v, weight in graph:\n",
    "            if distances[u] + weight < distances[v]:\n",
    "                distances[v] = distances[u] + weight\n",
    "    # Check for negative-weight cycles\n",
    "    for u, v, weight in graph:\n",
    "        if distances[u] + weight < distances[v]:\n",
    "            raise ValueError(\"Graph contains a negative-weight cycle\")\n",
    "    return distances"
   ]
  },
  {
   "cell_type": "markdown",
   "metadata": {},
   "source": [
    "## 5. **Floyd-Warshall Algorithm**  \n",
    "### **Purpose:** Computes the shortest paths between all pairs of vertices in a weighted graph.  \n",
    "**Time Complexity:** \\( O(V^3) \\)  \n",
    "**Space Complexity:** \\( O(V^2) \\)  \n"
   ]
  },
  {
   "cell_type": "code",
   "execution_count": 5,
   "metadata": {},
   "outputs": [],
   "source": [
    "def floyd_warshall(graph, vertices):\n",
    "    distances = [[float('inf')] * len(vertices) for _ in range(len(vertices))]\n",
    "    for i in range(len(vertices)):\n",
    "        distances[i][i] = 0\n",
    "    for u, v, weight in graph:\n",
    "        distances[u][v] = weight\n",
    "    for k in range(len(vertices)):\n",
    "        for i in range(len(vertices)):\n",
    "            for j in range(len(vertices)):\n",
    "                distances[i][j] = min(distances[i][j], distances[i][k] + distances[k][j])\n",
    "    return distances"
   ]
  },
  {
   "cell_type": "markdown",
   "metadata": {},
   "source": [
    "## 6. **Prim’s Algorithm**  \n",
    "### **Purpose:** Finds the Minimum Spanning Tree (MST) for a weighted graph.  \n",
    "**Time Complexity:** \\( O((V + E) log V) \\) (with a priority queue)  \n",
    "**Space Complexity:** \\( O(V) \\)  "
   ]
  },
  {
   "cell_type": "code",
   "execution_count": 6,
   "metadata": {},
   "outputs": [],
   "source": [
    "def prims(graph, start):\n",
    "    mst = []\n",
    "    visited = set()\n",
    "    pq = [(0, start, None)]  # (weight, vertex, parent)\n",
    "    while pq:\n",
    "        weight, node, parent = heapq.heappop(pq)\n",
    "        if node not in visited:\n",
    "            visited.add(node)\n",
    "            if parent is not None:\n",
    "                mst.append((parent, node, weight))\n",
    "            for neighbor, edge_weight in graph[node].items():\n",
    "                if neighbor not in visited:\n",
    "                    heapq.heappush(pq, (edge_weight, neighbor, node))\n",
    "    return mst"
   ]
  },
  {
   "cell_type": "markdown",
   "metadata": {},
   "source": [
    "## 7. **Kruskal’s Algorithm**  \n",
    "### **Purpose:** Finds the Minimum Spanning Tree (MST) for a weighted graph.  \n",
    "**Time Complexity:** \\( O(E log E + V) \\)  \n",
    "**Space Complexity:** \\( O(V) \\)  "
   ]
  },
  {
   "cell_type": "code",
   "execution_count": 7,
   "metadata": {},
   "outputs": [],
   "source": [
    "def kruskals(edges, vertices):\n",
    "    edges.sort(key=lambda x: x[2])  # Sort edges by weight\n",
    "    parent = {v: v for v in vertices}\n",
    "    \n",
    "    def find(v):\n",
    "        if parent[v] != v:\n",
    "            parent[v] = find(parent[v])  # Path compression\n",
    "        return parent[v]\n",
    "\n",
    "    def union(v1, v2):\n",
    "        root1, root2 = find(v1), find(v2)\n",
    "        if root1 != root2:\n",
    "            parent[root2] = root1\n",
    "\n",
    "    mst = []\n",
    "    for u, v, weight in edges:\n",
    "        if find(u) != find(v):\n",
    "            union(u, v)\n",
    "            mst.append((u, v, weight))\n",
    "    return mst"
   ]
  },
  {
   "cell_type": "markdown",
   "metadata": {},
   "source": [
    "## 8. **Topological Sort**  \n",
    "### **Purpose:** Orders vertices in a Directed Acyclic Graph (DAG).  \n",
    "**Time Complexity:** \\( O(V + E) \\)  \n",
    "**Space Complexity:** \\( O(V) \\)\n"
   ]
  },
  {
   "cell_type": "code",
   "execution_count": 8,
   "metadata": {},
   "outputs": [],
   "source": [
    "def topological_sort(graph):\n",
    "    in_degree = {u: 0 for u in graph}\n",
    "    for u in graph:\n",
    "        for v in graph[u]:\n",
    "            in_degree[v] += 1\n",
    "    queue = deque([u for u in graph if in_degree[u] == 0])\n",
    "    result = []\n",
    "    while queue:\n",
    "        node = queue.popleft()\n",
    "        result.append(node)\n",
    "        for neighbor in graph[node]:\n",
    "            in_degree[neighbor] -= 1\n",
    "            if in_degree[neighbor] == 0:\n",
    "                queue.append(neighbor)\n",
    "    return result"
   ]
  },
  {
   "cell_type": "markdown",
   "metadata": {},
   "source": [
    "\n",
    "\n",
    "## Comparison Table\n",
    "\n",
    "| **Algorithm**        | **Purpose**                             | **Worst Time**  | **Space** |\n",
    "|-----------------------|-----------------------------------------|-----------------|-----------|\n",
    "| **DFS**              | Graph traversal                        | \\( O(V + E) \\)  | \\( O(V) \\) |\n",
    "| **BFS**              | Graph traversal                        | \\( O(V + E) \\)  | \\( O(V) \\) |\n",
    "| **Dijkstra**         | Shortest path (non-negative weights)    | \\( O((V + E)log V) \\) | \\( O(V) \\) |\n",
    "| **Bellman-Ford**     | Shortest path (handles negative weights)| \\( O(V x E) \\) | \\( O(V) \\) |\n",
    "| **Floyd-Warshall**   | All-pairs shortest path                | \\( O(V^3) \\)    | \\( O(V^2) \\) |\n",
    "| **Prim's**           | Minimum Spanning Tree                  | \\( O((V + E)log V) \\) | \\( O(V) \\) |\n",
    "| **Kruskal's**        | Minimum Spanning Tree                  | \\( O(E log E + V) \\) | \\( O(V) \\) |\n",
    "| **Topological Sort** | Order DAG vertices                     | \\( O(V + E) \\)  | \\( O(V) \\) |\n"
   ]
  },
  {
   "cell_type": "markdown",
   "metadata": {},
   "source": []
  }
 ],
 "metadata": {
  "kernelspec": {
   "display_name": "base",
   "language": "python",
   "name": "python3"
  },
  "language_info": {
   "codemirror_mode": {
    "name": "ipython",
    "version": 3
   },
   "file_extension": ".py",
   "mimetype": "text/x-python",
   "name": "python",
   "nbconvert_exporter": "python",
   "pygments_lexer": "ipython3",
   "version": "3.12.4"
  }
 },
 "nbformat": 4,
 "nbformat_minor": 2
}
